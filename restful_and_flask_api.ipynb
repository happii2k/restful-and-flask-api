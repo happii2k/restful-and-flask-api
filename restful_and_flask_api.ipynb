{
  "nbformat": 4,
  "nbformat_minor": 0,
  "metadata": {
    "colab": {
      "provenance": []
    },
    "kernelspec": {
      "name": "python3",
      "display_name": "Python 3"
    },
    "language_info": {
      "name": "python"
    }
  },
  "cells": [
    {
      "cell_type": "markdown",
      "source": [
        "# RESTFUL API AND Flask API\n",
        "##1. What is a RESTful API?\n",
        "* A RESTful API (Representational State Transfer) is an architectural style for building web services that use HTTP methods (GET, POST, PUT, DELETE) to access and manipulate resources represented in formats like JSON or XML.\n",
        "\n",
        "##2. Explain the concept of API specification.\n",
        "* An API specification defines how an API works: its endpoints, request/response formats, parameters, authentication, and error codes. Examples include OpenAPI (Swagger), which helps standardize and document APIs.\n",
        "\n",
        "##3. What is Flask, and why is it popular for building APIs?\n",
        "* Flask is a lightweight Python web framework. It’s popular for building APIs because it’s simple, flexible, easy to learn, and supports RESTful architecture with minimal setup.\n",
        "\n",
        "##4. What is routing in Flask?\n",
        "* Routing in Flask means mapping URLs to Python functions. When a user accesses a specific URL, Flask calls the corresponding function to handle the request.\n",
        "\n",
        "##5. How do you create a simple Flask application?\n",
        "* ```\n",
        "from flask import Flask\n",
        "app = Flask(__name__)\n",
        "@app.route('/')\n",
        "def home():\n",
        "    return \"Hello, Flask!\"\n",
        "if __name__ == '__main__':\n",
        "    app.run(debug=True)\n",
        "    ```\n",
        "\n",
        "##6. What are HTTP methods used in RESTful APIs?\n",
        "\n",
        "* GET – Retrieve data\n",
        "\n",
        "* POST – Create data\n",
        "\n",
        "* PUT – Update data\n",
        "\n",
        "* DELETE – Remove data\n",
        "\n",
        "* PATCH – Partially update data\n",
        "\n",
        "##7. What is the purpose of the @app.route() decorator in Flask?\n",
        "* It maps a URL path to a Python function so that Flask knows what function to call when that path is accessed.\n",
        "\n",
        "##8. What is the difference between GET and POST HTTP methods?\n",
        "\n",
        "* GET: Retrieves data; parameters are sent in the URL.\n",
        "\n",
        "* POST: Sends data to the server; parameters are sent in the request body.\n",
        "\n",
        "##9. How do you handle errors in Flask APIs?\n",
        "* Use Flask’s error handlers:\n",
        "```\n",
        "@app.errorhandler(404)\n",
        "def not_found(e):\n",
        "    return {\"error\": \"Not found\"}, 404\n",
        "    ```\n",
        "\n",
        "##10. How do you connect Flask to a SQL database?\n",
        "* Use an ORM like SQLAlchemy:\n",
        "```\n",
        "from flask_sqlalchemy import SQLAlchemy\n",
        "app.config['SQLALCHEMY_DATABASE_URI'] = 'sqlite:///db.sqlite3'\n",
        "db = SQLAlchemy(app)\n",
        "```\n",
        "\n",
        "##11. What is the role of Flask-SQLAlchemy?\n",
        "* It simplifies database interaction in Flask using SQLAlchemy ORM, allowing you to define models and perform database operations easily.\n",
        "\n",
        "##12. What are Flask blueprints, and how are they useful?\n",
        "* Blueprints allow you to organize a Flask app into modular components, making large applications easier to manage and scale.\n",
        "\n",
        "##13. What is the purpose of Flask's request object?\n",
        "* It allows access to incoming request data like form inputs, JSON payload, headers, and query parameters.\n",
        "\n",
        "##14. How do you create a RESTful API endpoint using Flask?\n",
        "* ```@app.route('/api/data', methods=['GET'])\n",
        "def get_data():\n",
        "    return {\"data\": \"example\"}\n",
        "    ```\n",
        "\n",
        "##15. What is the purpose of Flask’s jsonify() function?\n",
        "* It formats Python dictionaries or lists into JSON responses and sets the correct content-type header.\n",
        "\n",
        "##16. Explain Flask’s url_for() function.\n",
        "* It generates URLs for view functions, making it easier to manage URL changes.\n",
        "```\n",
        "url_for('home')  # Returns '/' if home is defined as @app.route('/')\n",
        "```\n",
        "\n",
        "##17. How does Flask handle static files (CSS, JavaScript, etc.)?\n",
        "* Flask serves files from the /static folder by default.\n",
        "\n",
        "\n",
        "<link rel=\"stylesheet\" href=\"{{ url_for('static', filename='style.css') }}\">\n",
        "\n",
        "##18. What is an API specification, and how does it help in building a Flask API?\n",
        "* An API specification (like OpenAPI) helps define the structure, expected inputs/outputs, and behavior of your API. It aids in documentation, validation, and client/server integration.\n",
        "\n",
        "##19. What are HTTP status codes, and why are they important in a Flask API?\n",
        "* HTTP status codes indicate the result of an API request (e.g., 200 for success, 404 for not found, 500 for server error). They help clients understand the outcome of requests.\n",
        "\n",
        "##20. How do you handle POST requests in Flask?\n",
        "\n",
        "* ```\n",
        "from flask import request\n",
        "@app.route('/submit', methods=['POST'])\n",
        "def submit():\n",
        "    data = request.json\n",
        "    return {\"received\": data}\n",
        "    ```\n",
        "\n",
        "##21. How would you secure a Flask API?\n",
        "\n",
        "* Use HTTPS\n",
        "\n",
        "* Implement authentication (JWT, OAuth)\n",
        "\n",
        "* Validate input data\n",
        "\n",
        "* Sanitize user input\n",
        "\n",
        "* Use Flask extensions like Flask-JWT or Flask-Login\n",
        "\n",
        "##22. What is the significance of the Flask-RESTful extension?\n",
        "* It simplifies the creation of RESTful APIs by providing tools for resource routing, request parsing, and response formatting.\n",
        "\n",
        "##23. What is the role of Flask’s session object?\n",
        "* It stores user-specific data (like login state) across requests using secure cookies."
      ],
      "metadata": {
        "id": "6mU9-DJZZ87Y"
      }
    },
    {
      "cell_type": "code",
      "source": [
        "from flask import Flask, render_template, request, redirect, url_for, session, jsonify\n",
        "\n",
        "app = Flask(__name__)\n",
        "app.secret_key = 'your_secret_key'\n",
        "\n",
        "# 1. How do you create a basic Flask application?\n",
        "@app.route('/')\n",
        "def home():\n",
        "    return \"Hello, Flask!\"\n",
        ""
      ],
      "metadata": {
        "id": "kLuk1lW-ho9M"
      },
      "execution_count": 3,
      "outputs": []
    },
    {
      "cell_type": "code",
      "source": [
        "# 2. How do you serve static files like images or CSS in Flask?\n",
        "# Place files in the 'static' folder and reference in HTML: <link rel=\"stylesheet\" href=\"{{ url_for('static', filename='style.css') }}\">\n"
      ],
      "metadata": {
        "id": "83XlXNMMj_sN"
      },
      "execution_count": null,
      "outputs": []
    },
    {
      "cell_type": "code",
      "source": [
        "# 3. How do you define different routes with different HTTP methods in Flask?\n",
        "@app.route('/submit', methods=['GET', 'POST'])\n",
        "def submit():\n",
        "    if request.method == 'POST':\n",
        "        return \"Form submitted\"\n",
        "    return \"Submit form page\""
      ],
      "metadata": {
        "id": "HxoNzhX3kMr_"
      },
      "execution_count": 4,
      "outputs": []
    },
    {
      "cell_type": "code",
      "source": [
        "# 4. How do you render HTML templates in Flask?\n",
        "@app.route('/template')\n",
        "def template():\n",
        "    return render_template('index.html')\n"
      ],
      "metadata": {
        "id": "uCHvhiZykRSd"
      },
      "execution_count": 5,
      "outputs": []
    },
    {
      "cell_type": "code",
      "source": [
        "# 5. How can you generate URLs for routes in Flask using url_for?\n",
        "@app.route('/generate-url')\n",
        "def generate_url():\n",
        "    return url_for('home')"
      ],
      "metadata": {
        "id": "AJr1dAeOmaMx"
      },
      "execution_count": 6,
      "outputs": []
    },
    {
      "cell_type": "code",
      "source": [
        "# 6. How do you handle forms in Flask?\n",
        "@app.route('/form', methods=['GET', 'POST'])\n",
        "def form():\n",
        "    if request.method == 'POST':\n",
        "        name = request.form.get('name')\n",
        "        return f\"Hello, {name}!\"\n",
        "    return render_template('form.html')"
      ],
      "metadata": {
        "id": "ythapl7cmeM0"
      },
      "execution_count": 7,
      "outputs": []
    },
    {
      "cell_type": "code",
      "source": [
        "# 7. How can you validate form data in Flask?\n",
        "@app.route('/validate', methods=['POST'])\n",
        "def validate():\n",
        "    email = request.form.get('email')\n",
        "    if not email:\n",
        "        return \"Email is required\"\n",
        "    return f\"Email: {email}\""
      ],
      "metadata": {
        "id": "Fk9wnE5wmg1n"
      },
      "execution_count": 8,
      "outputs": []
    },
    {
      "cell_type": "code",
      "source": [
        "# 8. How do you manage sessions in Flask?\n",
        "@app.route('/login')\n",
        "def login():\n",
        "    session['username'] = 'harsh'\n",
        "    return \"Logged in\"\n",
        "\n",
        "@app.route('/profile')\n",
        "def profile():\n",
        "    username = session.get('username')\n",
        "    return f\"Hello, {username}\""
      ],
      "metadata": {
        "id": "eng-UtwSmjJl"
      },
      "execution_count": 9,
      "outputs": []
    },
    {
      "cell_type": "code",
      "source": [
        "# 9. How do you redirect to a different route in Flask?\n",
        "@app.route('/go-home')\n",
        "def go_home():\n",
        "    return redirect(url_for('home'))"
      ],
      "metadata": {
        "id": "Z3qiICAjml6k"
      },
      "execution_count": 10,
      "outputs": []
    },
    {
      "cell_type": "code",
      "source": [
        "# 10. How do you handle errors in Flask (e.g., 404)?\n",
        "@app.errorhandler(404)\n",
        "def page_not_found(e):\n",
        "    return render_template('404.html'), 404\n"
      ],
      "metadata": {
        "id": "gj0Cwmi2moQ1"
      },
      "execution_count": 11,
      "outputs": []
    },
    {
      "cell_type": "code",
      "source": [
        "# 11. How do you structure a Flask app using Blueprints?\n",
        "# See blueprint example in separate file and register like:\n",
        "# from my_blueprint import bp\n",
        "# app.register_blueprint(bp)"
      ],
      "metadata": {
        "id": "RFrlvuzlmquf"
      },
      "execution_count": 12,
      "outputs": []
    },
    {
      "cell_type": "code",
      "source": [
        "# 12. How do you define a custom Jinja filter in Flask?\n",
        "@app.template_filter('reverse')\n",
        "def reverse_filter(s):\n",
        "    return s[::-1]"
      ],
      "metadata": {
        "id": "0Y0H3L3QmthA"
      },
      "execution_count": 13,
      "outputs": []
    },
    {
      "cell_type": "code",
      "source": [
        "# 13. How can you redirect with query parameters in Flask?\n",
        "@app.route('/search-redirect')\n",
        "def search_redirect():\n",
        "    return redirect(url_for('search', q='flask'))\n",
        "\n",
        "@app.route('/search')\n",
        "def search():\n",
        "    query = request.args.get('q')\n",
        "    return f\"Search results for: {query}\""
      ],
      "metadata": {
        "id": "oYwx1yG0mxHI"
      },
      "execution_count": 14,
      "outputs": []
    },
    {
      "cell_type": "code",
      "source": [
        "# 14. How do you return JSON responses in Flask?\n",
        "@app.route('/api/json')\n",
        "def api_json():\n",
        "    return jsonify({\"message\": \"Hello, JSON\"})\n"
      ],
      "metadata": {
        "id": "-I1j0P2pmzxI"
      },
      "execution_count": 15,
      "outputs": []
    },
    {
      "cell_type": "code",
      "source": [
        "# 15. How do you capture URL parameters in Flask?\n",
        "@app.route('/user/<username>')\n",
        "def user_profile(username):\n",
        "    return f\"User: {username}\"\n",
        "\n",
        "if __name__ == '__main__':\n",
        "    app.run(debug=True)"
      ],
      "metadata": {
        "colab": {
          "base_uri": "https://localhost:8080/"
        },
        "id": "o5iQIucZm2Sv",
        "outputId": "d675bc81-9913-4679-933a-2e108243b566"
      },
      "execution_count": 16,
      "outputs": [
        {
          "output_type": "stream",
          "name": "stdout",
          "text": [
            " * Serving Flask app '__main__'\n",
            " * Debug mode: on\n"
          ]
        },
        {
          "output_type": "stream",
          "name": "stderr",
          "text": [
            "INFO:werkzeug:\u001b[31m\u001b[1mWARNING: This is a development server. Do not use it in a production deployment. Use a production WSGI server instead.\u001b[0m\n",
            " * Running on http://127.0.0.1:5000\n",
            "INFO:werkzeug:\u001b[33mPress CTRL+C to quit\u001b[0m\n",
            "INFO:werkzeug: * Restarting with stat\n"
          ]
        }
      ]
    }
  ]
}